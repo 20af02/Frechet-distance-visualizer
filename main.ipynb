{
 "cells": [
  {
   "attachments": {},
   "cell_type": "markdown",
   "metadata": {},
   "source": [
    "# Imports"
   ]
  },
  {
   "cell_type": "code",
   "execution_count": null,
   "metadata": {},
   "outputs": [],
   "source": [
    "import numpy as np\n",
    "from utility import Plotter\n",
    "import matplotlib.pyplot as plt\n",
    "import plotly.graph_objects as go\n",
    "\n",
    "from solver.DiscreteFrechet import calculate_discrete_frechet\n",
    "from solver.FreeSpaceWeak import FreeSpaceWeak\n",
    "from solver.FreeSpaceContinuous import FreeSpaceContinuous\n",
    "\n",
    "from utility.FreeSpace import FreeSpace\n",
    "from utility.Plotter import plotfs_pq, plot_curves, plot_freespace, read_curves, render_file_freespace\n",
    "\n",
    "from utility.FreeSpace import POINT_PER_CELL\n",
    "from utility.Animation import animate_solution"
   ]
  },
  {
   "attachments": {},
   "cell_type": "markdown",
   "metadata": {},
   "source": [
    "### Load Points"
   ]
  },
  {
   "cell_type": "code",
   "execution_count": null,
   "metadata": {},
   "outputs": [],
   "source": [
    "P, Q = read_curves()"
   ]
  },
  {
   "cell_type": "code",
   "execution_count": null,
   "metadata": {},
   "outputs": [],
   "source": [
    "# Create an interactive plot of epsilon, marker_p, marker_q, and length and freespace\n",
    "render_file_freespace()"
   ]
  },
  {
   "attachments": {},
   "cell_type": "markdown",
   "metadata": {},
   "source": [
    "## Calculating Epsilon"
   ]
  },
  {
   "cell_type": "code",
   "execution_count": null,
   "metadata": {},
   "outputs": [],
   "source": [
    "discrete_eps = calculate_discrete_frechet(P, Q)\n",
    "print(\"Discrete Frechet distance: \", discrete_eps)"
   ]
  },
  {
   "cell_type": "code",
   "execution_count": null,
   "metadata": {},
   "outputs": [],
   "source": [
    "# weak_frechet\n",
    "weak_frechet = FreeSpaceWeak(P, Q)\n",
    "weak_eps = weak_frechet.compute_minimum_distance()\n",
    "print(\"Weak Frechet distance: \", float(weak_eps))\n",
    "weak_eps "
   ]
  },
  {
   "cell_type": "code",
   "execution_count": null,
   "metadata": {},
   "outputs": [],
   "source": [
    "continuous_frechet = FreeSpaceContinuous(P, Q)\n",
    "continuous_eps = continuous_frechet.calculate_distance()\n",
    "print(\"Continuous Frechet distance: \", continuous_eps)"
   ]
  },
  {
   "attachments": {},
   "cell_type": "markdown",
   "metadata": {},
   "source": [
    "# Visualizations"
   ]
  },
  {
   "attachments": {},
   "cell_type": "markdown",
   "metadata": {},
   "source": [
    "## Base Graph"
   ]
  },
  {
   "cell_type": "code",
   "execution_count": null,
   "metadata": {},
   "outputs": [],
   "source": [
    "fig, axs = plt.subplots(1, 2)\n",
    "plot_curves(P, Q, axs[0])\n",
    "plot_freespace(P, Q, discrete_eps, axs[1])\n",
    "fig.show()"
   ]
  },
  {
   "attachments": {},
   "cell_type": "markdown",
   "metadata": {},
   "source": [
    "## 3d Graph"
   ]
  },
  {
   "cell_type": "code",
   "execution_count": null,
   "metadata": {},
   "outputs": [],
   "source": [
    "eps_grid = FreeSpace(P, Q).compute_freespace()\n",
    "x_dist = P.parametric_distances[-1]\n",
    "xx = np.linspace(0, x_dist, int(100*x_dist))\n",
    "y_dist = Q.parametric_distances[-1]\n",
    "yy = np.linspace(0, y_dist, int(100*y_dist))\n",
    "\n",
    "c_min = np.min(eps_grid)\n",
    "c_max = np.max(eps_grid)\n",
    "c_sz = c_max - c_min/100\n",
    "\n",
    "camera = dict(\n",
    "      up=dict(x=0, y=0, z=1),\n",
    "      center=dict(x=0, y=0, z=0),\n",
    "      eye=dict(x=0,y=0,z=3)\n",
    ")\n",
    "\n",
    "fig = go.Figure(data=[go.Surface(z=eps_grid, x=xx, y=yy,opacity=0.5,\n",
    "                                 contours={\"z\": {\"show\": True, \"start\": c_min, \"end\": c_max, \"size\": 1}})], )\n",
    "\n",
    "fig.add_trace(go.Surface(z=np.ones(eps_grid.shape)*discrete_eps, x=xx, y=yy, opacity=0.5,colorscale='Viridis'))\n",
    "\n",
    "# set axis labels\n",
    "fig.update_layout(title='Freespace plot in 3D', scene=dict(xaxis_title='Points on curve P',yaxis_title='Points on curve Q',zaxis_title=\"$L_2$ Norm\"), autosize=False, scene_camera=camera, width=600, height=800, margin = dict(l=65, r=50, b=65, t=90))\n",
    "\n",
    "fig.show()"
   ]
  },
  {
   "attachments": {},
   "cell_type": "markdown",
   "metadata": {},
   "source": [
    "# Animated Solution"
   ]
  },
  {
   "cell_type": "code",
   "execution_count": null,
   "metadata": {},
   "outputs": [],
   "source": [
    "weak_eps = float(weak_eps)\n",
    "discrete_eps, weak_eps, continuous_eps"
   ]
  },
  {
   "attachments": {},
   "cell_type": "markdown",
   "metadata": {},
   "source": [
    "### Discrete Frechet Distance"
   ]
  },
  {
   "cell_type": "code",
   "execution_count": null,
   "metadata": {},
   "outputs": [],
   "source": [
    "#Discrete Frechet\n",
    "animate_solution(P, Q, discrete_eps)"
   ]
  },
  {
   "attachments": {},
   "cell_type": "markdown",
   "metadata": {},
   "source": [
    "### Weak Frechet Distance"
   ]
  },
  {
   "cell_type": "code",
   "execution_count": null,
   "metadata": {},
   "outputs": [],
   "source": [
    "#Weak Frechet @TODO\n",
    "#animate_solution(P, Q, weak_eps)"
   ]
  },
  {
   "attachments": {},
   "cell_type": "markdown",
   "metadata": {},
   "source": [
    "### Continuous Frechet Distance"
   ]
  },
  {
   "cell_type": "code",
   "execution_count": null,
   "metadata": {},
   "outputs": [],
   "source": [
    "#Continuous Frechet\n",
    "animate_solution(P, Q, continuous_eps)"
   ]
  }
 ],
 "metadata": {
  "kernelspec": {
   "display_name": "base",
   "language": "python",
   "name": "python3"
  },
  "language_info": {
   "codemirror_mode": {
    "name": "ipython",
    "version": 3
   },
   "file_extension": ".py",
   "mimetype": "text/x-python",
   "name": "python",
   "nbconvert_exporter": "python",
   "pygments_lexer": "ipython3",
   "version": "3.8.15 (default, Nov 24 2022, 14:38:14) [MSC v.1916 64 bit (AMD64)]"
  },
  "vscode": {
   "interpreter": {
    "hash": "161217fdcb2f9b307bf1eee9866ce7dfb89c96a3ea9c335d4eec6a319e3fb140"
   }
  }
 },
 "nbformat": 4,
 "nbformat_minor": 2
}
