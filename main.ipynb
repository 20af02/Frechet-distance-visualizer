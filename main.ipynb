{
 "cells": [
  {
   "cell_type": "code",
   "execution_count": 4,
   "metadata": {},
   "outputs": [],
   "source": [
    "from utility import Plotter\n",
    "from solver import *"
   ]
  },
  {
   "cell_type": "code",
   "execution_count": 5,
   "metadata": {},
   "outputs": [],
   "source": [
    "P, Q = Plotter.read_curves()"
   ]
  },
  {
   "cell_type": "code",
   "execution_count": 6,
   "metadata": {},
   "outputs": [
    {
     "ename": "NameError",
     "evalue": "name 'fixed' is not defined",
     "output_type": "error",
     "traceback": [
      "\u001b[1;31m---------------------------------------------------------------------------\u001b[0m",
      "\u001b[1;31mNameError\u001b[0m                                 Traceback (most recent call last)",
      "Cell \u001b[1;32mIn[6], line 1\u001b[0m\n\u001b[1;32m----> 1\u001b[0m \u001b[43mPlotter\u001b[49m\u001b[38;5;241;43m.\u001b[39;49m\u001b[43mrender_file_freespace\u001b[49m\u001b[43m(\u001b[49m\u001b[43m)\u001b[49m\n",
      "File \u001b[1;32m~\\Documents\\GitHub\\Frechet-distance-visualizer\\utility\\Plotter.py:126\u001b[0m, in \u001b[0;36mrender_file_freespace\u001b[1;34m()\u001b[0m\n\u001b[0;32m    120\u001b[0m P, Q \u001b[38;5;241m=\u001b[39m read_curves()\n\u001b[0;32m    121\u001b[0m s \u001b[38;5;241m=\u001b[39m FreeSpace(P, Q)\u001b[38;5;241m.\u001b[39mcompute_freespace()\n\u001b[0;32m    122\u001b[0m interactive_plot \u001b[38;5;241m=\u001b[39m interactive(plotfs_pq,\n\u001b[0;32m    123\u001b[0m                            epsilon\u001b[38;5;241m=\u001b[39m(np\u001b[38;5;241m.\u001b[39mmin(s), np\u001b[38;5;241m.\u001b[39mmax(s)),\n\u001b[0;32m    124\u001b[0m                            Marker_P\u001b[38;5;241m=\u001b[39m(\u001b[38;5;241m0\u001b[39m, P\u001b[38;5;241m.\u001b[39mparametric_distances[\u001b[38;5;241m-\u001b[39m\u001b[38;5;241m1\u001b[39m], \u001b[38;5;241m0.01\u001b[39m),\n\u001b[0;32m    125\u001b[0m                            Marker_Q\u001b[38;5;241m=\u001b[39m(\u001b[38;5;241m0\u001b[39m, Q\u001b[38;5;241m.\u001b[39mparametric_distances[\u001b[38;5;241m-\u001b[39m\u001b[38;5;241m1\u001b[39m], \u001b[38;5;241m0.01\u001b[39m),\n\u001b[1;32m--> 126\u001b[0m                            P\u001b[38;5;241m=\u001b[39m\u001b[43mfixed\u001b[49m(P),\n\u001b[0;32m    127\u001b[0m                            Q\u001b[38;5;241m=\u001b[39mfixed(Q))\n\u001b[0;32m    129\u001b[0m \u001b[38;5;28;01mreturn\u001b[39;00m interactive_plot\n",
      "\u001b[1;31mNameError\u001b[0m: name 'fixed' is not defined"
     ]
    }
   ],
   "source": [
    "Plotter.render_file_freespace()\n"
   ]
  },
  {
   "cell_type": "code",
   "execution_count": null,
   "metadata": {},
   "outputs": [],
   "source": []
  }
 ],
 "metadata": {
  "kernelspec": {
   "display_name": "Python 3 (ipykernel)",
   "language": "python",
   "name": "python3"
  },
  "language_info": {
   "codemirror_mode": {
    "name": "ipython",
    "version": 3
   },
   "file_extension": ".py",
   "mimetype": "text/x-python",
   "name": "python",
   "nbconvert_exporter": "python",
   "pygments_lexer": "ipython3",
   "version": "3.10.6"
  },
  "vscode": {
   "interpreter": {
    "hash": "161217fdcb2f9b307bf1eee9866ce7dfb89c96a3ea9c335d4eec6a319e3fb140"
   }
  }
 },
 "nbformat": 4,
 "nbformat_minor": 2
}
